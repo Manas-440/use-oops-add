{
 "cells": [
  {
   "cell_type": "markdown",
   "id": "8ad4d4c8-c016-4cbf-9ac5-f123798f10a7",
   "metadata": {},
   "source": [
    "Add number using clas object"
   ]
  },
  {
   "cell_type": "code",
   "execution_count": 1,
   "id": "4c7a4a1f-a96a-4b0c-a6ed-d5ab608ab7ba",
   "metadata": {},
   "outputs": [
    {
     "name": "stdout",
     "output_type": "stream",
     "text": [
      "13\n",
      "13\n"
     ]
    }
   ],
   "source": [
    "class test:\n",
    "    a=5\n",
    "    b=8\n",
    "    def add(self):\n",
    "        p=self.a\n",
    "        q=self.b\n",
    "        z=p+q\n",
    "        print(z)\n",
    "        self.k=z\n",
    "        \n",
    "        #self.d=self.a+self.b\n",
    "        return(self.k)\n",
    "    def view(self):\n",
    "        print(self.k)\n",
    "    \n",
    "b=test()\n",
    "b.add()\n",
    "b.view()"
   ]
  },
  {
   "cell_type": "code",
   "execution_count": null,
   "id": "ae850ead-13b8-4e7f-9636-1c633ee92366",
   "metadata": {},
   "outputs": [],
   "source": []
  }
 ],
 "metadata": {
  "kernelspec": {
   "display_name": "Python 3 (ipykernel)",
   "language": "python",
   "name": "python3"
  },
  "language_info": {
   "codemirror_mode": {
    "name": "ipython",
    "version": 3
   },
   "file_extension": ".py",
   "mimetype": "text/x-python",
   "name": "python",
   "nbconvert_exporter": "python",
   "pygments_lexer": "ipython3",
   "version": "3.10.8"
  }
 },
 "nbformat": 4,
 "nbformat_minor": 5
}
