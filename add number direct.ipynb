{
 "cells": [
  {
   "cell_type": "markdown",
   "id": "243dd43c-d065-445a-b8b0-f30fee4c7adf",
   "metadata": {},
   "source": [
    "Direct access class variable"
   ]
  },
  {
   "cell_type": "code",
   "execution_count": 19,
   "id": "e196b30c-a9ff-463f-9921-be84ad053330",
   "metadata": {},
   "outputs": [
    {
     "name": "stdout",
     "output_type": "stream",
     "text": [
      "13\n"
     ]
    }
   ],
   "source": [
    "\n",
    "class test:\n",
    "    a=5\n",
    "    b=8\n",
    "    def add(self):\n",
    "        \n",
    "        self.k=self.a+self.b\n",
    "        return(self.k)\n",
    "    def view(self):\n",
    "        print(self.k)\n",
    "    \n",
    "b=test()\n",
    "b.add()\n",
    "b.view()\n"
   ]
  },
  {
   "cell_type": "code",
   "execution_count": null,
   "id": "758fe23c-016e-42d0-ac19-145af9374118",
   "metadata": {},
   "outputs": [],
   "source": []
  }
 ],
 "metadata": {
  "kernelspec": {
   "display_name": "Python 3 (ipykernel)",
   "language": "python",
   "name": "python3"
  },
  "language_info": {
   "codemirror_mode": {
    "name": "ipython",
    "version": 3
   },
   "file_extension": ".py",
   "mimetype": "text/x-python",
   "name": "python",
   "nbconvert_exporter": "python",
   "pygments_lexer": "ipython3",
   "version": "3.10.8"
  }
 },
 "nbformat": 4,
 "nbformat_minor": 5
}
